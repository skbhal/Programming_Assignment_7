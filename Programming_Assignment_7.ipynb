{
 "cells": [
  {
   "cell_type": "markdown",
   "id": "5cedf6af",
   "metadata": {},
   "source": [
    "## Ques1- Write a python program to find a sum of array "
   ]
  },
  {
   "cell_type": "code",
   "execution_count": 11,
   "id": "0b3b9d3d",
   "metadata": {},
   "outputs": [
    {
     "name": "stdout",
     "output_type": "stream",
     "text": [
      "sum of the array 221\n"
     ]
    }
   ],
   "source": [
    "def Sum_(arr,n):\n",
    "    return(sum(arr))\n",
    "arr = [11,23,21,22,43,45,56]\n",
    "n = len(arr)\n",
    "ans = Sum_(arr,n)\n",
    "print(\"sum of the array\", ans )"
   ]
  },
  {
   "cell_type": "markdown",
   "id": "f4128653",
   "metadata": {},
   "source": [
    "## Ques2- Write a python program to find the latest elelmet in an array?\n"
   ]
  },
  {
   "cell_type": "code",
   "execution_count": 17,
   "id": "398d8a3c",
   "metadata": {},
   "outputs": [
    {
     "name": "stdout",
     "output_type": "stream",
     "text": [
      "Enter size of array: 3\n",
      "Enter element: 2\n",
      "Enter element: 2\n",
      "Enter element: 2\n",
      "[2, 2, 2]\n",
      "Enter the element to search: 2\n",
      "Element is 2\n",
      "at index 0\n",
      "at position 1\n",
      "Element is 2\n",
      "at index 1\n",
      "at position 2\n",
      "Element is 2\n",
      "at index 2\n",
      "at position 3\n"
     ]
    }
   ],
   "source": [
    "a  = int(input(\"Enter size of array: \"))\n",
    "lst = []\n",
    "for i in range(a):\n",
    "    b = int(input(\"Enter element: \"))\n",
    "    lst.append(b)\n",
    "print(lst)\n",
    "c = int(input(\"Enter the element to search: \"))\n",
    "for i in range(a):\n",
    "    if lst[i]==c:\n",
    "        print(\"Element is\",lst[i])\n",
    "        print(\"at index\",i)\n",
    "        print(\"at position\",i+1)"
   ]
  },
  {
   "cell_type": "markdown",
   "id": "5a86c792",
   "metadata": {},
   "source": [
    "## Ques 3 Write a program for array rotation ?"
   ]
  },
  {
   "cell_type": "code",
   "execution_count": 21,
   "id": "5ae10e1d",
   "metadata": {},
   "outputs": [
    {
     "name": "stdout",
     "output_type": "stream",
     "text": [
      "Array after left rotation is   [3, 4, 5, 6, 7, 1, 2]\n"
     ]
    }
   ],
   "source": [
    "def rotateArray(a,d):\n",
    "    temp = []\n",
    "    n = len(a)\n",
    "    for i in range (d,n):\n",
    "        temp.append(a[i])\n",
    "    i = 0\n",
    "    for i in range(0,d):\n",
    "        temp.append(a[i])\n",
    "    a =  temp.copy()\n",
    "    return a\n",
    "arr = [1,2,3,4,5,6,7]\n",
    "print(\"Array after left rotation is  \",end = ' ')\n",
    "print(rotateArray(arr, 2))"
   ]
  },
  {
   "cell_type": "markdown",
   "id": "4bb60800",
   "metadata": {},
   "source": [
    "## Ques 4 Write the python program to split the array and add first part to the end?"
   ]
  },
  {
   "cell_type": "code",
   "execution_count": 4,
   "id": "d0d1119c",
   "metadata": {},
   "outputs": [
    {
     "name": "stdout",
     "output_type": "stream",
     "text": [
      "15 16 50 15 40 40 "
     ]
    }
   ],
   "source": [
    "def SplitArray(arr, n, k):\n",
    "    for i in range (0,k):\n",
    "        x = arr[0]\n",
    "        for j in range (0,n-1):\n",
    "            arr[j] = arr[j+1]\n",
    "            arr[n-1]=x\n",
    "arr = [15,40,15,16,50,36]\n",
    "n = len(arr)\n",
    "position = 2\n",
    "SplitArray(arr , n , position)\n",
    "for i in range (0,n):\n",
    "    print(arr[i], end = ' ')"
   ]
  },
  {
   "cell_type": "markdown",
   "id": "6918f5b5",
   "metadata": {},
   "source": [
    "## Ques5 Write the python program to check if givin array is monotonic?"
   ]
  },
  {
   "cell_type": "code",
   "execution_count": 5,
   "id": "b2932d2b",
   "metadata": {},
   "outputs": [
    {
     "name": "stdout",
     "output_type": "stream",
     "text": [
      "True\n"
     ]
    }
   ],
   "source": [
    "#check the givven array is monotonic \n",
    "def isMonotonic(A):\n",
    "    return (all(A[i] <=A[i+1] for i in range(len(A)-1)) or\n",
    "            all(A[i] >=A[i+1] for i in range (len(A)-1)))\n",
    "# drive program \n",
    "A = [6,5,4,4]\n",
    "#print resukt \n",
    "print(isMonotonic(A))"
   ]
  },
  {
   "cell_type": "code",
   "execution_count": null,
   "id": "8b4c9c70",
   "metadata": {},
   "outputs": [],
   "source": []
  }
 ],
 "metadata": {
  "kernelspec": {
   "display_name": "Python 3 (ipykernel)",
   "language": "python",
   "name": "python3"
  },
  "language_info": {
   "codemirror_mode": {
    "name": "ipython",
    "version": 3
   },
   "file_extension": ".py",
   "mimetype": "text/x-python",
   "name": "python",
   "nbconvert_exporter": "python",
   "pygments_lexer": "ipython3",
   "version": "3.9.7"
  }
 },
 "nbformat": 4,
 "nbformat_minor": 5
}
